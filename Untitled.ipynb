{
 "cells": [
  {
   "cell_type": "code",
   "execution_count": 2,
   "metadata": {
    "collapsed": true
   },
   "outputs": [],
   "source": [
    "import matplotlib.pyplot as plt\n",
    "%matplotlib inline\n",
    "import numpy as np\n",
    "from scipy.signal import get_window\n",
    "from scipy.fftpack import fft, fftshift\n",
    "import math\n",
    "import matplotlib.pyplot as plt\n",
    "eps = np.finfo(float).eps\n",
    "import sys\n",
    "sys.path.append('../../software/models/')\n",
    "import dftModel\n"
   ]
  },
  {
   "cell_type": "code",
   "execution_count": 30,
   "metadata": {},
   "outputs": [],
   "source": [
    "\n",
    "\n",
    "\"\"\" \n",
    "A4-Part-1: Extracting the main lobe of the spectrum of a window\n",
    "\n",
    "Write a function that extracts the main lobe of the magnitude spectrum of a window given a window \n",
    "type and its length (M). The function should return the samples corresponding to the main lobe in \n",
    "decibels (dB).\n",
    "\n",
    "To compute the spectrum, take the FFT size (N) to be 8 times the window length (N = 8*M) (For this \n",
    "part, N need not be a power of 2). \n",
    "\n",
    "The input arguments to the function are the window type (window) and the length of the window (M). \n",
    "The function should return a numpy array containing the samples corresponding to the main lobe of \n",
    "the window. \n",
    "\n",
    "In the returned numpy array you should include the samples corresponding to both the local minimas\n",
    "across the main lobe. \n",
    "\n",
    "The possible window types that you can expect as input are rectangular ('boxcar'), 'hamming' or\n",
    "'blackmanharris'.\n",
    "\n",
    "NOTE: You can approach this question in two ways: 1) You can write code to find the indices of the \n",
    "local minimas across the main lobe. 2) You can manually note down the indices of these local minimas \n",
    "by plotting and a visual inspection of the spectrum of the window. If done manually, the indices \n",
    "have to be obtained for each possible window types separately (as they differ across different \n",
    "window types).\n",
    "\n",
    "Tip: log10(0) is not well defined, so its a common practice to add a small value such as eps = 1e-16 \n",
    "to the magnitude spectrum before computing it in dB. This is optional and will not affect your answers. \n",
    "If you find it difficult to concatenate the two halves of the main lobe, you can first center the \n",
    "spectrum using fftshift() and then compute the indexes of the minimas around the main lobe.\n",
    "\n",
    "\n",
    "Test case 1: If you run your code using window = 'blackmanharris' and M = 100, the output numpy \n",
    "array should contain 65 samples.\n",
    "\n",
    "Test case 2: If you run your code using window = 'boxcar' and M = 120, the output numpy array \n",
    "should contain 17 samples.\n",
    "\n",
    "Test case 3: If you run your code using window = 'hamming' and M = 256, the output numpy array \n",
    "should contain 33 samples.\n",
    "\n",
    "\"\"\"\n",
    "\n",
    "\n",
    "def extractMainLobe(window, M):\n",
    "    \"\"\"\n",
    "    Input:\n",
    "            window (string): Window type to be used (Either rectangular ('boxcar'), 'hamming' or '\n",
    "                blackmanharris')\n",
    "            M (integer): length of the window to be used\n",
    "    Output:\n",
    "            The function should return a numpy array containing the main lobe of the magnitude \n",
    "            spectrum of the window in decibels (dB).\n",
    "    \"\"\"\n",
    "\n",
    "    w = get_window(window, M)         # get the window\n",
    "\n",
    "    # Your code here\n",
    "    hM = int((M + 1) / 2)\n",
    "    N = 8 * M\n",
    "    # zero-window the...... window\n",
    "    fftbuffer = np.zeros(N)\n",
    "    fftbuffer[:hM] = w[hM:]\n",
    "    fftbuffer[-hM:] = w[:hM]\n",
    "    X = fft(fftbuffer)\n",
    "    # convert to dB with max 0\n",
    "    mX = np.abs(X)    \n",
    "    mX = 20 * np.log10(mX + eps)\n",
    "    mX -= max(mX)\n",
    "    mX = fftshift(mX)\n",
    "    peak = np.argmax(mX)\n",
    "    \n",
    "    # find local minima through loops I guess\n",
    "    left_min_val = mX[peak]\n",
    "    left_min_idx = peak\n",
    "    right_min_val = mX[peak]\n",
    "    right_min_idx = peak\n",
    "    while True:\n",
    "        left_min_idx -= 1\n",
    "        if left_min_val > mX[left_min_idx]:\n",
    "            left_min_val = mX[left_min_idx]\n",
    "        else:\n",
    "            left_min_idx += 1\n",
    "            break \n",
    "    while True:\n",
    "        right_min_idx += 1\n",
    "        if right_min_val > mX[right_min_idx]:\n",
    "            right_min_val = mX[right_min_idx]\n",
    "        else:\n",
    "            right_min_idx -= 1\n",
    "            break\n",
    "    \n",
    "    return mX[left_min_idx:right_min_idx + 1]\n",
    "\n",
    "assert len(extractMainLobe('blackmanharris', 100)) == 65\n",
    "assert len(extractMainLobe('boxcar', 120)) == 17\n",
    "assert len(extractMainLobe('hamming', 256)) == 33\n"
   ]
  },
  {
   "cell_type": "code",
   "execution_count": 53,
   "metadata": {},
   "outputs": [
    {
     "name": "stdout",
     "output_type": "stream",
     "text": [
      "(67.540185986036661, 86.357161692531221)\n",
      "(89.510506656299285, 306.07466513808669)\n",
      "(74.631476225366825, 305.33531501351894)\n"
     ]
    }
   ],
   "source": [
    "import os\n",
    "import sys\n",
    "import numpy as np\n",
    "import math\n",
    "from scipy.signal import get_window\n",
    "import matplotlib.pyplot as plt\n",
    "\n",
    "# sys.path.append(os.path.join(os.path.dirname(os.path.realpath(__file__)), '../../software/models/'))\n",
    "sys.path.append('../../software/models')\n",
    "sys.path.append('../../sounds/')\n",
    "import dftModel\n",
    "import stft\n",
    "import utilFunctions as UF\n",
    "eps = np.finfo(float).eps\n",
    "\n",
    "\n",
    "\"\"\"\n",
    "A4-Part-2: Measuring noise in the reconstructed signal using the STFT model \n",
    "\n",
    "Write a function that measures the amount of noise introduced during the analysis and synthesis of a \n",
    "signal using the STFT model. Use SNR (signal to noise ratio) in dB to quantify the amount of noise. \n",
    "Use the stft() function in stft.py to do an analysis followed by a synthesis of the input signal.\n",
    "\n",
    "A brief description of the SNR computation can be found in the pdf document (A4-STFT.pdf, in Relevant \n",
    "Concepts section) in the assignment directory (A4). Use the time domain energy definition to compute\n",
    "the SNR.\n",
    "\n",
    "With the input signal and the obtained output, compute two different SNR values for the following cases:\n",
    "\n",
    "1) SNR1: Over the entire length of the input and the output signals.\n",
    "2) SNR2: For the segment of the signals left after discarding M samples from both the start and the \n",
    "end, where M is the analysis window length. Note that this computation is done after STFT analysis \n",
    "and synthesis.\n",
    "\n",
    "The input arguments to the function are the wav file name including the path (inputFile), window \n",
    "type (window), window length (M), FFT size (N), and hop size (H). The function should return a python \n",
    "tuple of both the SNR values in decibels: (SNR1, SNR2). Both SNR1 and SNR2 are float values. \n",
    "\n",
    "Test case 1: If you run your code using piano.wav file with 'blackman' window, M = 513, N = 2048 and \n",
    "H = 128, the output SNR values should be around: (67.57748352378475, 304.68394693221649).\n",
    "['piano.wav', 'blackman', 513, 2048, 128]\n",
    "\n",
    "Test case 2: If you run your code using sax-phrase-short.wav file with 'hamming' window, M = 512, \n",
    "N = 1024 and H = 64, the output SNR values should be around: (89.510506656299285, 306.18696700251388).\n",
    "['../../sounds/sax-phrase-short.wav', 'hamming', 512, 1024, 64]\n",
    "\n",
    "Test case 3: If you run your code using rain.wav file with 'hann' window, M = 1024, N = 2048 and \n",
    "H = 128, the output SNR values should be around: (74.631476225366825, 304.26918192997738).\n",
    "['../../sounds/rain.wav', 'hann', 1024, 2048, 128]\n",
    "\n",
    "Due to precision differences on different machines/hardware, compared to the expected SNR values, your \n",
    "output values can differ by +/-10dB for SNR1 and +/-100dB for SNR2.\n",
    "\"\"\"\n",
    "\n",
    "def computeSNR(inputFile, window, M, N, H):\n",
    "    \"\"\"\n",
    "    Input:\n",
    "            inputFile (string): wav file name including the path \n",
    "            window (string): analysis window type (choice of rectangular, triangular, hanning, hamming, \n",
    "                    blackman, blackmanharris)\n",
    "            M (integer): analysis window length (odd positive integer)\n",
    "            N (integer): fft size (power of two, > M)\n",
    "            H (integer): hop size for the stft computation\n",
    "    Output:\n",
    "            The function should return a python tuple of both the SNR values (SNR1, SNR2)\n",
    "            SNR1 and SNR2 are floats.\n",
    "    \"\"\"\n",
    "    ## your code here\n",
    "    x = UF.wavread(inputFile)[1]\n",
    "    w = get_window(window, M)\n",
    "    x_prime = stft.stft(x, w, N, H)\n",
    "    x_trunc = trunc_signal(x, M)\n",
    "    x_prime_trunc = trunc_signal(x_prime, M)\n",
    "    return get_intro_noise(x, x_prime), get_intro_noise(x_trunc, x_prime_trunc)\n",
    "    \n",
    "\n",
    "def trunc_signal(x, M):\n",
    "    'Truncate both ends of a signal by a number of samples M'\n",
    "    return x[M:-M]\n",
    "\n",
    "def get_energy(x):\n",
    "    'Compute the energy of a signal x'\n",
    "    return np.sum(np.abs(x) ** 2)\n",
    "\n",
    "def get_snr_db(x, noise):\n",
    "    'Compute the SNR of a signal and its noise floor in dB'\n",
    "    return 10 * np.log10(get_energy(x) / get_energy(noise))\n",
    "\n",
    "def get_noise(x1, x2):\n",
    "    'Compute the noise introduced into a signal by subtracting the re-synthesized values from the original'\n",
    "    return x1 - x2\n",
    "\n",
    "def get_intro_noise(x1, x2):\n",
    "    'Calculate the noise introduced in re-synthesis of a signal'\n",
    "    return get_snr_db(x1, get_noise(x1, x2))\n",
    "\n",
    "print(computeSNR(*['../../sounds/piano.wav', 'blackman', 513, 2048, 128]))\n",
    "print(computeSNR(*['../../sounds/sax-phrase-short.wav', 'hamming', 512, 1024, 64]))\n",
    "print(computeSNR(*['../../sounds/rain.wav', 'hann', 1024, 2048, 128]))"
   ]
  },
  {
   "cell_type": "code",
   "execution_count": 49,
   "metadata": {},
   "outputs": [
    {
     "data": {
      "text/plain": [
       "14"
      ]
     },
     "execution_count": 49,
     "metadata": {},
     "output_type": "execute_result"
    }
   ],
   "source": [
    "get_energy(np.array([1,2,3]))"
   ]
  },
  {
   "cell_type": "code",
   "execution_count": null,
   "metadata": {},
   "outputs": [],
   "source": [
    "import os\n",
    "import sys\n",
    "import numpy as np\n",
    "from scipy.signal import get_window\n",
    "import matplotlib.pyplot as plt\n",
    "\n",
    "# sys.path.append(os.path.join(os.path.dirname(os.path.realpath(__file__)), '../../software/models/'))\n",
    "sys.path.append('../../software/models/')\n",
    "import stft\n",
    "import utilFunctions as UF\n",
    "from loadTestCases import load\n",
    "\n",
    "eps = np.finfo(float).eps\n",
    "\n",
    "\"\"\"\n",
    "A4-Part-3: Computing band-wise energy envelopes of a signal\n",
    "\n",
    "Write a function that computes band-wise energy envelopes of a given audio signal by using the STFT.\n",
    "Consider two frequency bands for this question, low and high. The low frequency band is the set of \n",
    "all the frequencies between 0 and 3000 Hz and the high frequency band is the set of all the \n",
    "frequencies between 3000 and 10000 Hz (excluding the boundary frequencies in both the cases). \n",
    "At a given frame, the value of the energy envelope of a band can be computed as the sum of squared \n",
    "values of all the frequency coefficients in that band. Compute the energy envelopes in decibels. \n",
    "\n",
    "Refer to \"A4-STFT.pdf\" document for further details on computing bandwise energy.\n",
    "\n",
    "The input arguments to the function are the wav file name including the path (inputFile), window \n",
    "type (window), window length (M), FFT size (N) and hop size (H). The function should return a numpy \n",
    "array with two columns, where the first column is the energy envelope of the low frequency band and \n",
    "the second column is that of the high frequency band.\n",
    "\n",
    "Use stft.stftAnal() to obtain the STFT magnitude spectrum for all the audio frames. Then compute two \n",
    "energy values for each frequency band specified. While calculating frequency bins for each frequency \n",
    "band, consider only the bins that are within the specified frequency range. For example, for the low \n",
    "frequency band consider only the bins with frequency > 0 Hz and < 3000 Hz (you can use np.where() to \n",
    "find those bin indexes). This way we also remove the DC offset in the signal in energy envelope \n",
    "computation. The frequency corresponding to the bin index k can be computed as k*fs/N, where fs is \n",
    "the sampling rate of the signal.\n",
    "\n",
    "To get a better understanding of the energy envelope and its characteristics you can plot the envelopes \n",
    "together with the spectrogram of the signal. You can use matplotlib plotting library for this purpose. \n",
    "To visualize the spectrogram of a signal, a good option is to use colormesh. You can reuse the code in\n",
    "sms-tools/lectures/4-STFT/plots-code/spectrogram.py. Either overlay the envelopes on the spectrogram \n",
    "or plot them in a different subplot. Make sure you use the same range of the x-axis for both the \n",
    "spectrogram and the energy envelopes.\n",
    "\n",
    "NOTE: Running these test cases might take a few seconds depending on your hardware.\n",
    "\n",
    "Test case 1: Use piano.wav file with window = 'blackman', M = 513, N = 1024 and H = 128 as input. \n",
    "The bin indexes of the low frequency band span from 1 to 69 (69 samples) and of the high frequency \n",
    "band span from 70 to 232 (163 samples). To numerically compare your output, use loadTestCases.py\n",
    "script to obtain the expected output.\n",
    "\n",
    "Test case 2: Use piano.wav file with window = 'blackman', M = 2047, N = 4096 and H = 128 as input. \n",
    "The bin indexes of the low frequency band span from 1 to 278 (278 samples) and of the high frequency \n",
    "band span from 279 to 928 (650 samples). To numerically compare your output, use loadTestCases.py\n",
    "script to obtain the expected output.\n",
    "\n",
    "Test case 3: Use sax-phrase-short.wav file with window = 'hamming', M = 513, N = 2048 and H = 256 as \n",
    "input. The bin indexes of the low frequency band span from 1 to 139 (139 samples) and of the high \n",
    "frequency band span from 140 to 464 (325 samples). To numerically compare your output, use \n",
    "loadTestCases.py script to obtain the expected output.\n",
    "\n",
    "In addition to comparing results with the expected output, you can also plot your output for these \n",
    "test cases.You can clearly notice the sharp attacks and decay of the piano notes for test case 1 \n",
    "(See figure in the accompanying pdf). You can compare this with the output from test case 2 that \n",
    "uses a larger window. You can infer the influence of window size on sharpness of the note attacks \n",
    "and discuss it on the forums.\n",
    "\"\"\"\n",
    "def computeEngEnv(inputFile, window, M, N, H):\n",
    "    \"\"\"\n",
    "    Inputs:\n",
    "            inputFile (string): input sound file (monophonic with sampling rate of 44100)\n",
    "            window (string): analysis window type (choice of rectangular, triangular, hanning, \n",
    "                hamming, blackman, blackmanharris)\n",
    "            M (integer): analysis window size (odd positive integer)\n",
    "            N (integer): FFT size (power of 2, such that N > M)\n",
    "            H (integer): hop size for the stft computation\n",
    "    Output:\n",
    "            The function should return a numpy array engEnv with shape Kx2, K = Number of frames\n",
    "            containing energy envelop of the signal in decibles (dB) scale\n",
    "            engEnv[:,0]: Energy envelope in band 0 < f < 3000 Hz (in dB)\n",
    "            engEnv[:,1]: Energy envelope in band 3000 < f < 10000 Hz (in dB)\n",
    "    \"\"\"\n",
    "    \n",
    "    ### your code here\n",
    "    fs, x = UF.wavread(inputFile)\n",
    "    w = get_window(window, M)\n",
    "    mX, pX = stft.stftAnal(x, w, N, H)\n",
    "    mX = db_to_linear(mX)\n",
    "    threek = [compute_energy(frame, 0, 3000, fs, N) for frame in mX]\n",
    "    tenk = [compute_energy(frame, 3000, 10000, fs, N) for frame in mX]\n",
    "    outX =np.array([[x, y] for x, y in zip(threek, tenk)])\n",
    "    return lin_to_db(outX)\n",
    "    \n",
    "\n",
    "\n",
    "def db_to_linear(X):\n",
    "    return 10 ** (X / 20)\n",
    "\n",
    "def compute_energy(x, k1, k2, fs, N):\n",
    "    per_bin = fs / N\n",
    "    lower = int(k1 / per_bin) + 1\n",
    "    upper = int(k2 / per_bin) + 1\n",
    "    return np.sum(np.square(x[lower:upper]))\n",
    "\n",
    "def lin_to_db(X):\n",
    "    return 10 * np.log10(X)\n",
    "\n"
   ]
  },
  {
   "cell_type": "code",
   "execution_count": null,
   "metadata": {},
   "outputs": [],
   "source": [
    "out = computeEngEnv(**load(4, 3)['input'])\n",
    "out"
   ]
  },
  {
   "cell_type": "code",
   "execution_count": 228,
   "metadata": {},
   "outputs": [
    {
     "data": {
      "text/plain": [
       "array([[  0.        ,   0.        ],\n",
       "       [ 11.76544333,   8.17202667],\n",
       "       [  3.72520791,   0.78746439],\n",
       "       ..., \n",
       "       [  0.        ,   0.        ],\n",
       "       [  0.        ,   2.4198163 ],\n",
       "       [  0.        ,   0.        ]])"
      ]
     },
     "execution_count": 228,
     "metadata": {},
     "output_type": "execute_result"
    }
   ],
   "source": [
    "load(4,3)['output']"
   ]
  },
  {
   "cell_type": "code",
   "execution_count": 219,
   "metadata": {},
   "outputs": [
    {
     "data": {
      "text/plain": [
       "-10.43258401510592"
      ]
     },
     "execution_count": 219,
     "metadata": {},
     "output_type": "execute_result"
    }
   ],
   "source": []
  },
  {
   "cell_type": "code",
   "execution_count": 224,
   "metadata": {},
   "outputs": [],
   "source": [
    "fs, x = UF.wavread('../../sounds/piano.wav')"
   ]
  },
  {
   "cell_type": "code",
   "execution_count": 240,
   "metadata": {},
   "outputs": [],
   "source": [
    "mX, pX = stft.stftAnal(x, get_window('hanning', 513), 1024, 512)"
   ]
  },
  {
   "cell_type": "code",
   "execution_count": 256,
   "metadata": {},
   "outputs": [
    {
     "data": {
      "text/plain": [
       "-99.902917194715982"
      ]
     },
     "execution_count": 256,
     "metadata": {},
     "output_type": "execute_result"
    }
   ],
   "source": [
    "to_db(compute_energy(db_to_linear(mX[0]), 0, 3000, 44100, 1024))"
   ]
  },
  {
   "cell_type": "code",
   "execution_count": 239,
   "metadata": {},
   "outputs": [
    {
     "data": {
      "text/plain": [
       "array([[  2938.70520481,   2989.65820042,   3146.12151464, ...,\n",
       "         10265.39659232,  10425.7981261 ,  10504.79536948],\n",
       "       [  2462.49899476,   2635.85589685,   2799.6578541 , ...,\n",
       "         11840.40320694,  12990.20471316,  18618.16143769],\n",
       "       [  2461.57373527,   2429.64824521,   2274.28252153, ...,\n",
       "         13412.94832545,  12505.98567525,  12297.59220904],\n",
       "       ..., \n",
       "       [  2466.75123662,   2594.68740363,   3010.14191119, ...,\n",
       "         11231.36321218,  11427.01410524,  11559.35655135],\n",
       "       [  2358.67351003,   2478.76541939,   2815.4471107 , ...,\n",
       "         14379.62231369,  12151.40881685,  11712.45203608],\n",
       "       [  2968.12551445,   3143.41122051,   3810.58747629, ...,\n",
       "         11380.1784504 ,  10684.31238476,  10367.60702237]])"
      ]
     },
     "execution_count": 239,
     "metadata": {},
     "output_type": "execute_result"
    }
   ],
   "source": [
    "mX"
   ]
  },
  {
   "cell_type": "code",
   "execution_count": null,
   "metadata": {
    "collapsed": true
   },
   "outputs": [],
   "source": []
  }
 ],
 "metadata": {
  "kernelspec": {
   "display_name": "Python [conda env:anaconda3]",
   "language": "python",
   "name": "conda-env-anaconda3-py"
  }
 },
 "nbformat": 4,
 "nbformat_minor": 2
}
